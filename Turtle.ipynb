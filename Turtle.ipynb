{
 "cells": [
  {
   "cell_type": "code",
   "execution_count": 1,
   "metadata": {},
   "outputs": [],
   "source": [
    "import turtle"
   ]
  },
  {
   "cell_type": "code",
   "execution_count": 4,
   "metadata": {},
   "outputs": [],
   "source": [
    "wn=turtle.Screen()"
   ]
  },
  {
   "cell_type": "code",
   "execution_count": 6,
   "metadata": {},
   "outputs": [],
   "source": [
    "alex=turtle.Turtle()\n",
    "alex.forward(50)\n",
    "alex.left(90)\n",
    "alex.forward(75)\n",
    "alex.salary=600\n"
   ]
  },
  {
   "cell_type": "code",
   "execution_count": 10,
   "metadata": {},
   "outputs": [],
   "source": [
    "import turtle\n",
    "wn=turtle.Screen()\n",
    "wn.bgcolor('lightgreen')\n",
    "\n",
    "tess=turtle.Turtle()\n",
    "tess.pensize(5)"
   ]
  },
  {
   "cell_type": "code",
   "execution_count": 11,
   "metadata": {},
   "outputs": [],
   "source": [
    "alex=turtle.Turtle()\n",
    "alex.color('hotpink')\n"
   ]
  },
  {
   "cell_type": "code",
   "execution_count": 12,
   "metadata": {},
   "outputs": [],
   "source": [
    "tess.forward(60)\n",
    "tess.left(90)\n",
    "tess.forward(120)"
   ]
  },
  {
   "cell_type": "code",
   "execution_count": 13,
   "metadata": {},
   "outputs": [],
   "source": [
    "alex.forward(300)\n",
    "alex.right(90)\n",
    "alex.forward(100)"
   ]
  },
  {
   "cell_type": "code",
   "execution_count": 15,
   "metadata": {},
   "outputs": [],
   "source": [
    "import turtle\n",
    "\n",
    "jane = turtle.Turtle()\n",
    "jane.forward(20)"
   ]
  },
  {
   "cell_type": "code",
   "execution_count": 16,
   "metadata": {},
   "outputs": [],
   "source": [
    "elan=turtle.Turtle()\n",
    "\n",
    "distance=50\n",
    "\n",
    "for _ in range(10):\n",
    "    elan.forward(distance)\n",
    "    elan.right(90)\n",
    "    distance=distance+10"
   ]
  },
  {
   "cell_type": "code",
   "execution_count": 17,
   "metadata": {},
   "outputs": [],
   "source": [
    "elan=turtle.Turtle()\n",
    "\n",
    "distance=50\n",
    "angle=90\n",
    "\n",
    "for _ in range(10):\n",
    "    elan.forward(distance)\n",
    "    elan.right(angle)\n",
    "    distance=distance+10\n",
    "    angle=angle-3"
   ]
  },
  {
   "cell_type": "code",
   "execution_count": 2,
   "metadata": {},
   "outputs": [],
   "source": [
    "\n",
    "wn=turtle.Screen()\n",
    "wn.bgcolor('lightpink')\n",
    "tess=turtle.Turtle()\n",
    "tess.color('green')\n",
    "tess.shape('turtle')\n",
    "\n",
    "dist=5\n",
    "tess.up()\n",
    "\n",
    "for _ in range(30):\n",
    "    tess.stamp()\n",
    "    tess.forward(dist)\n",
    "    tess.right(24)\n",
    "    dist=dist+2\n",
    "wn.exitonclick()"
   ]
  },
  {
   "cell_type": "code",
   "execution_count": null,
   "metadata": {},
   "outputs": [],
   "source": []
  },
  {
   "cell_type": "code",
   "execution_count": null,
   "metadata": {},
   "outputs": [],
   "source": []
  }
 ],
 "metadata": {
  "kernelspec": {
   "display_name": "Python 3",
   "language": "python",
   "name": "python3"
  },
  "language_info": {
   "codemirror_mode": {
    "name": "ipython",
    "version": 3
   },
   "file_extension": ".py",
   "mimetype": "text/x-python",
   "name": "python",
   "nbconvert_exporter": "python",
   "pygments_lexer": "ipython3",
   "version": "3.8.5"
  }
 },
 "nbformat": 4,
 "nbformat_minor": 4
}
