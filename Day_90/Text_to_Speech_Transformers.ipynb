{
 "cells": [
  {
   "cell_type": "code",
   "execution_count": 1,
   "id": "0d414dc0",
   "metadata": {},
   "outputs": [],
   "source": [
    "#!pip install git+https://github.com/huggingface/transformers sentencepiece datasets\n",
    "#!pip install PyMuPDF"
   ]
  },
  {
   "cell_type": "code",
   "execution_count": 2,
   "id": "5ff6998b",
   "metadata": {},
   "outputs": [],
   "source": [
    "from tkinter import *\n",
    "from tkinter import filedialog\n",
    "import fitz\n",
    "from transformers import SpeechT5Processor, SpeechT5ForTextToSpeech, SpeechT5HifiGan\n",
    "from datasets import load_dataset\n",
    "import torch\n",
    "import soundfile as sf\n",
    "from datasets import load_dataset"
   ]
  },
  {
   "cell_type": "code",
   "execution_count": 3,
   "id": "ba61b07c",
   "metadata": {},
   "outputs": [],
   "source": [
    "TITLE_FONT = \"Heebo\"\n",
    "TITLE_COLOR = \"#800080\"\n",
    "WORD_FONT = \"Heebo\"\n",
    "WORD_COLOR = \"#3A003A\"\n",
    "BACKGROUND_COLOR = \"#B09FCA\"\n",
    "BTN_BACKGROUND_COLOR = \"#3A003A\"\n",
    "LANGUAGE = \"ro\""
   ]
  },
  {
   "cell_type": "code",
   "execution_count": 4,
   "id": "b48e37fb",
   "metadata": {},
   "outputs": [],
   "source": [
    "def text_speech():\n",
    "    # Use tkinter filedialog to select a PDF file\n",
    "    pdf_file = filedialog.askopenfilename(\n",
    "        initialdir=\"/\",\n",
    "        title=\"Select PDF\",\n",
    "        filetypes=((\"pdf files\", \"*.pdf\"), (\"all files\", \"*.*\"))\n",
    "    )\n",
    "    \n",
    "    #Opening the file\n",
    "    doc = fitz.open(pdf_file)\n",
    "    text = \"\"\n",
    "    for page in doc:\n",
    "        text+=page.get_text()\n",
    "    print(text)\n",
    "    \n",
    "    print('Starting with the speech generation')\n",
    "    processor = SpeechT5Processor.from_pretrained(\"microsoft/speecht5_tts\")\n",
    "    model = SpeechT5ForTextToSpeech.from_pretrained(\"microsoft/speecht5_tts\")\n",
    "    vocoder = SpeechT5HifiGan.from_pretrained(\"microsoft/speecht5_hifigan\")\n",
    "    \n",
    "    inputs = processor(text=text, return_tensors=\"pt\")\n",
    "\n",
    "    # load xvector containing speaker's voice characteristics from a dataset\n",
    "    embeddings_dataset = load_dataset(\"Matthijs/cmu-arctic-xvectors\", split=\"validation\")\n",
    "    speaker_embeddings = torch.tensor(embeddings_dataset[7306][\"xvector\"]).unsqueeze(0)\n",
    "\n",
    "    speech = model.generate_speech(inputs[\"input_ids\"], speaker_embeddings, vocoder=vocoder)\n",
    "\n",
    "    sf.write(\"speech_from_text.wav\", speech.numpy(), samplerate=16000)\n",
    "    print('The audio was generated. See You!!')"
   ]
  },
  {
   "cell_type": "code",
   "execution_count": 5,
   "id": "6c80a39c",
   "metadata": {},
   "outputs": [
    {
     "name": "stderr",
     "output_type": "stream",
     "text": [
      "2023-04-16 13:06:38.536 python[5900:128118] +[CATransaction synchronize] called within transaction\n"
     ]
    },
    {
     "name": "stdout",
     "output_type": "stream",
     "text": [
      "Good Things\n",
      "I once heard an old man say,\n",
      "Shaping vases out of clay\n",
      "Into subtle forms sublime,\n",
      "“Listen, son, good things take time.”\n",
      "All my life I’ve thought of this\n",
      "When a task was lacking bliss,\n",
      "When the work seemed awfully tough\n",
      "And I thought I’d had enough.\n",
      "So I’d give a little more\n",
      "To what sometimes seemed a chore;\n",
      "And, you know, without a doubt,\n",
      "Good things always came about.\n",
      "~ Barbara Vance\n",
      "\n",
      "Starting with the speech generation\n"
     ]
    },
    {
     "name": "stderr",
     "output_type": "stream",
     "text": [
      "Found cached dataset cmu-arctic-xvectors (/Users/andrea.huerfano/.cache/huggingface/datasets/Matthijs___cmu-arctic-xvectors/default/0.0.1/a62fea1f9415e240301ea0042ffad2a3aadf4d1caa7f9a8d9512d631723e781f)\n"
     ]
    },
    {
     "name": "stdout",
     "output_type": "stream",
     "text": [
      "The audio was generated. See You!!\n"
     ]
    }
   ],
   "source": [
    "# Creating Windows and Labels with Tkinter\n",
    "root = Tk()\n",
    "root.title('Text to Speech')\n",
    "root.config(padx=25, pady=25, bg=BACKGROUND_COLOR)\n",
    "title_label = Label(text=\"Text to Speech\", font=(TITLE_FONT, 40, \"bold\"), fg=TITLE_COLOR, bg=BACKGROUND_COLOR)\n",
    "\n",
    "# Use grid() to complete the User Interface\n",
    "title_label.grid(column=0, row=0, pady=40)\n",
    "open_btn = Button(text=\"Select PDF\", font=(WORD_FONT, 25), width=15, fg=WORD_COLOR, bg=BTN_BACKGROUND_COLOR,\n",
    "                  command=text_speech)\n",
    "open_btn.grid(column=0, row=1, pady=5)\n",
    "root.mainloop()"
   ]
  },
  {
   "cell_type": "code",
   "execution_count": null,
   "id": "c4df6d6e",
   "metadata": {},
   "outputs": [],
   "source": []
  }
 ],
 "metadata": {
  "kernelspec": {
   "display_name": "Python 3 (ipykernel)",
   "language": "python",
   "name": "python3"
  },
  "language_info": {
   "codemirror_mode": {
    "name": "ipython",
    "version": 3
   },
   "file_extension": ".py",
   "mimetype": "text/x-python",
   "name": "python",
   "nbconvert_exporter": "python",
   "pygments_lexer": "ipython3",
   "version": "3.9.13"
  }
 },
 "nbformat": 4,
 "nbformat_minor": 5
}
