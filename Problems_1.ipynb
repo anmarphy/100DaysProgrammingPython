{
 "cells": [
  {
   "cell_type": "code",
   "execution_count": null,
   "metadata": {},
   "outputs": [],
   "source": [
    "# Comprehension List"
   ]
  },
  {
   "cell_type": "code",
   "execution_count": 6,
   "metadata": {},
   "outputs": [
    {
     "name": "stdout",
     "output_type": "stream",
     "text": [
      "2\n",
      "2\n",
      "2\n",
      "2\n",
      "[[0, 0, 0], [0, 0, 1], [0, 1, 0], [0, 1, 2], [0, 2, 1], [0, 2, 2], [1, 0, 0], [1, 0, 2], [1, 1, 1], [1, 1, 2], [1, 2, 0], [1, 2, 1], [1, 2, 2], [2, 0, 1], [2, 0, 2], [2, 1, 0], [2, 1, 1], [2, 1, 2], [2, 2, 0], [2, 2, 1], [2, 2, 2]]\n"
     ]
    }
   ],
   "source": [
    "if __name__ == '__main__':\n",
    "    x = int(input())\n",
    "    y = int(input())\n",
    "    z = int(input())\n",
    "    n = int(input())\n",
    "    l=[[i, j, k]  for i in range(0, x+1) for j in range(0,y+1) for k in range(0,z+1) if i+j+k != n]\n",
    "    print(l)"
   ]
  },
  {
   "cell_type": "code",
   "execution_count": null,
   "metadata": {},
   "outputs": [],
   "source": [
    "# Nested List"
   ]
  },
  {
   "cell_type": "code",
   "execution_count": 61,
   "metadata": {},
   "outputs": [
    {
     "name": "stdout",
     "output_type": "stream",
     "text": [
      "4\n",
      "Erick\n",
      "45.2\n",
      "Damian\n",
      "32.9\n",
      "Charles\n",
      "32.9\n",
      "Mathew\n",
      "2\n",
      "[2.0, 32.9, 32.9, 45.2]\n",
      "[2.0, 32.9, 45.2]\n",
      "32.9\n",
      "{'Damian': 32.9, 'Charles': 32.9}\n",
      "Charles\n",
      "Damian\n"
     ]
    }
   ],
   "source": [
    "set_grades={}\n",
    "if __name__ == '__main__':\n",
    "    for _ in range(int(input())):\n",
    "        name = input()\n",
    "        score = float(input())\n",
    "        set_grades.update({name: score})\n",
    "    grades=sorted(list(set_grades.values()))\n",
    "    \n",
    "    l=[]\n",
    "    for i in grades:\n",
    "        if i in l:\n",
    "            continue\n",
    "        else: l.append(i)\n",
    "    \n",
    "    second_lowest=l[1]\n",
    "\n",
    "    new_dic={ key: value for (key, value) in set_grades.items() if value==second_lowest}\n",
    "    names=sorted(new_dic.keys())\n",
    "    \n",
    "    print(grades)\n",
    "    print(l)\n",
    "    print(second_lowest)\n",
    "    print(new_dic)\n",
    "    for name in names:\n",
    "        print(name)"
   ]
  },
  {
   "cell_type": "code",
   "execution_count": null,
   "metadata": {},
   "outputs": [],
   "source": []
  }
 ],
 "metadata": {
  "kernelspec": {
   "display_name": "Python 3",
   "language": "python",
   "name": "python3"
  },
  "language_info": {
   "codemirror_mode": {
    "name": "ipython",
    "version": 3
   },
   "file_extension": ".py",
   "mimetype": "text/x-python",
   "name": "python",
   "nbconvert_exporter": "python",
   "pygments_lexer": "ipython3",
   "version": "3.8.5"
  }
 },
 "nbformat": 4,
 "nbformat_minor": 4
}
