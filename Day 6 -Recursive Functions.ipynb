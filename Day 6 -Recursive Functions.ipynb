{
 "cells": [
  {
   "cell_type": "markdown",
   "metadata": {},
   "source": [
    "## Day 6 -Recursive Functions"
   ]
  },
  {
   "cell_type": "code",
   "execution_count": 1,
   "metadata": {},
   "outputs": [],
   "source": [
    "import pandas as pd\n",
    "import numpy as np\n",
    "import math "
   ]
  },
  {
   "cell_type": "markdown",
   "metadata": {},
   "source": [
    "#### Retornar un listado de primos"
   ]
  },
  {
   "cell_type": "code",
   "execution_count": 2,
   "metadata": {},
   "outputs": [],
   "source": [
    "def compuesto(n,d):\n",
    "    if n%d==0:\n",
    "        return True\n",
    "    elif d>math.sqrt(n):\n",
    "        return False\n",
    "    else: return compuesto(n, d+1)"
   ]
  },
  {
   "cell_type": "code",
   "execution_count": 3,
   "metadata": {},
   "outputs": [],
   "source": [
    "def primo(n):\n",
    "    if n==2:\n",
    "        return True\n",
    "    else:\n",
    "        return not bool(compuesto(n,2))"
   ]
  },
  {
   "cell_type": "code",
   "execution_count": 4,
   "metadata": {},
   "outputs": [],
   "source": [
    "def retorna_primos(longitud):\n",
    "    '''Esta funcion retorna un listado de primos de tamaño - longitud'''\n",
    "    primos=[]\n",
    "    n=2\n",
    "    while len(primos)<longitud:\n",
    "        if primo(n)==True:\n",
    "            primos.append(n)\n",
    "        n+=1\n",
    "    return primos"
   ]
  },
  {
   "cell_type": "code",
   "execution_count": 6,
   "metadata": {},
   "outputs": [
    {
     "data": {
      "text/plain": [
       "[2, 3, 5, 7, 11, 13, 17, 19, 23, 29]"
      ]
     },
     "execution_count": 6,
     "metadata": {},
     "output_type": "execute_result"
    }
   ],
   "source": [
    "retorna_primos(10)"
   ]
  },
  {
   "cell_type": "code",
   "execution_count": 7,
   "metadata": {},
   "outputs": [
    {
     "data": {
      "text/plain": [
       "[2, 3, 5, 7, 11, 13, 17, 19, 23, 29, 31, 37, 41]"
      ]
     },
     "execution_count": 7,
     "metadata": {},
     "output_type": "execute_result"
    }
   ],
   "source": [
    "retorna_primos(13)"
   ]
  },
  {
   "cell_type": "markdown",
   "metadata": {},
   "source": [
    "#### Máximo Común Divisor"
   ]
  },
  {
   "cell_type": "code",
   "execution_count": 8,
   "metadata": {},
   "outputs": [],
   "source": [
    "def mcd(p,q):\n",
    "    if q==0:\n",
    "        return p\n",
    "    else: return mcd(q, p%q)"
   ]
  },
  {
   "cell_type": "code",
   "execution_count": 10,
   "metadata": {},
   "outputs": [],
   "source": [
    "def mcd_mejorado(p,q):\n",
    "    if p>q:\n",
    "        return mcd(p,q)\n",
    "    else: return mcd(p,q)"
   ]
  },
  {
   "cell_type": "code",
   "execution_count": 11,
   "metadata": {},
   "outputs": [
    {
     "data": {
      "text/plain": [
       "5"
      ]
     },
     "execution_count": 11,
     "metadata": {},
     "output_type": "execute_result"
    }
   ],
   "source": [
    "mcd_mejorado(10,25)"
   ]
  },
  {
   "cell_type": "code",
   "execution_count": 12,
   "metadata": {},
   "outputs": [
    {
     "data": {
      "text/plain": [
       "5"
      ]
     },
     "execution_count": 12,
     "metadata": {},
     "output_type": "execute_result"
    }
   ],
   "source": [
    "mcd_mejorado(25,10)"
   ]
  },
  {
   "cell_type": "markdown",
   "metadata": {},
   "source": [
    "### 7.2 Ejercicios"
   ]
  },
  {
   "cell_type": "markdown",
   "metadata": {},
   "source": [
    "Modele mediante una función matemática y diseñe un programa recursivo que calcule\n",
    "la suma de los primeros n números positivos"
   ]
  },
  {
   "cell_type": "code",
   "execution_count": 1,
   "metadata": {},
   "outputs": [],
   "source": [
    "def sum_n(n):\n",
    "    if n==1:\n",
    "        return 1\n",
    "    else: return sum_n(n-1)+n"
   ]
  },
  {
   "cell_type": "code",
   "execution_count": 6,
   "metadata": {},
   "outputs": [],
   "source": [
    "def revision_sum(n):\n",
    "    return n*(n+1)/2"
   ]
  },
  {
   "cell_type": "code",
   "execution_count": 7,
   "metadata": {},
   "outputs": [
    {
     "name": "stdout",
     "output_type": "stream",
     "text": [
      "1 1 1.0\n",
      "2 3 3.0\n",
      "3 6 6.0\n",
      "4 10 10.0\n",
      "5 15 15.0\n",
      "6 21 21.0\n",
      "7 28 28.0\n",
      "8 36 36.0\n",
      "9 45 45.0\n",
      "10 55 55.0\n",
      "11 66 66.0\n",
      "12 78 78.0\n",
      "13 91 91.0\n",
      "14 105 105.0\n",
      "15 120 120.0\n",
      "16 136 136.0\n",
      "17 153 153.0\n",
      "18 171 171.0\n",
      "19 190 190.0\n"
     ]
    }
   ],
   "source": [
    "for i in range(1,20):\n",
    "    print(i, sum_n(i), revision_sum(i))"
   ]
  },
  {
   "cell_type": "code",
   "execution_count": 8,
   "metadata": {},
   "outputs": [
    {
     "name": "stdout",
     "output_type": "stream",
     "text": [
      "1\n",
      "3\n",
      "6\n",
      "10\n",
      "15\n",
      "21\n",
      "28\n",
      "36\n",
      "45\n",
      "55\n",
      "66\n",
      "78\n",
      "91\n"
     ]
    }
   ],
   "source": [
    "i=1\n",
    "while sum_n(i)<100:\n",
    "    print(sum_n(i))\n",
    "    i+=1"
   ]
  },
  {
   "cell_type": "markdown",
   "metadata": {},
   "source": [
    "Modele mediante una funciòn matemàtica y diseñe un programa recursivo que calcule\n",
    "la suma de los cuadrados de los primeros n nùmeros positivos\n"
   ]
  },
  {
   "cell_type": "code",
   "execution_count": 9,
   "metadata": {},
   "outputs": [],
   "source": [
    "def sum_cuadrados(n):\n",
    "    if n==1:\n",
    "        return 1\n",
    "    else: return sum_cuadrados(n-1)+n**2"
   ]
  },
  {
   "cell_type": "code",
   "execution_count": 11,
   "metadata": {},
   "outputs": [
    {
     "name": "stdout",
     "output_type": "stream",
     "text": [
      "1 1\n",
      "2 5\n",
      "3 14\n",
      "4 30\n"
     ]
    }
   ],
   "source": [
    "for i in range(1,5):\n",
    "    print(i, sum_cuadrados(i))"
   ]
  },
  {
   "cell_type": "markdown",
   "metadata": {},
   "source": [
    "Modele mediante una funcion matemàtica y diseñe un programa recursivo que calcule\n",
    "el producto de los cuadrados de los primeros n nùmeros positivos"
   ]
  },
  {
   "cell_type": "code",
   "execution_count": 13,
   "metadata": {},
   "outputs": [],
   "source": [
    "def productoria(n):\n",
    "    if n==1:\n",
    "        return 1\n",
    "    else: return productoria(n-1)*n**2"
   ]
  },
  {
   "cell_type": "code",
   "execution_count": 15,
   "metadata": {},
   "outputs": [
    {
     "name": "stdout",
     "output_type": "stream",
     "text": [
      "1 1\n",
      "2 4\n",
      "3 36\n",
      "4 576\n"
     ]
    }
   ],
   "source": [
    "for i in range(1,5):\n",
    "    print(i, productoria(i))"
   ]
  },
  {
   "cell_type": "markdown",
   "metadata": {},
   "source": [
    "Modele mediante una funciòn matemàtica y dise~ne un programa recursivo que calcule el logaritmo entero en base 2 de n"
   ]
  },
  {
   "cell_type": "code",
   "execution_count": null,
   "metadata": {},
   "outputs": [],
   "source": []
  }
 ],
 "metadata": {
  "kernelspec": {
   "display_name": "Python 3",
   "language": "python",
   "name": "python3"
  },
  "language_info": {
   "codemirror_mode": {
    "name": "ipython",
    "version": 3
   },
   "file_extension": ".py",
   "mimetype": "text/x-python",
   "name": "python",
   "nbconvert_exporter": "python",
   "pygments_lexer": "ipython3",
   "version": "3.7.6"
  }
 },
 "nbformat": 4,
 "nbformat_minor": 4
}
