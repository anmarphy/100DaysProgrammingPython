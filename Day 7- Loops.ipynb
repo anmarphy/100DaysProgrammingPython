{
 "cells": [
  {
   "cell_type": "markdown",
   "metadata": {},
   "source": [
    "# Day 7- Loops"
   ]
  },
  {
   "cell_type": "markdown",
   "metadata": {},
   "source": [
    "### 1. While"
   ]
  },
  {
   "cell_type": "code",
   "execution_count": 1,
   "metadata": {},
   "outputs": [
    {
     "name": "stdout",
     "output_type": "stream",
     "text": [
      "0 0\n",
      "1 1\n",
      "2 4\n",
      "3 9\n",
      "4 16\n",
      "5 25\n",
      "6 36\n",
      "7 49\n",
      "8 64\n",
      "9 81\n"
     ]
    }
   ],
   "source": [
    "i=0\n",
    "while i**2<100:\n",
    "    print(i, i**2)\n",
    "    i+=1"
   ]
  },
  {
   "cell_type": "code",
   "execution_count": 2,
   "metadata": {},
   "outputs": [
    {
     "name": "stdout",
     "output_type": "stream",
     "text": [
      "1 10\n",
      "2 20\n",
      "4 30\n",
      "8 40\n",
      "16 50\n",
      "32 60\n",
      "64 70\n"
     ]
    }
   ],
   "source": [
    "i=1\n",
    "j=10\n",
    "while (i<j):\n",
    "    print(i, j)\n",
    "    i*=2\n",
    "    j+=10"
   ]
  },
  {
   "cell_type": "markdown",
   "metadata": {},
   "source": [
    "#### El mínimo número de la máquina"
   ]
  },
  {
   "cell_type": "code",
   "execution_count": 3,
   "metadata": {},
   "outputs": [],
   "source": [
    "def min_maquina():\n",
    "    x_0=1\n",
    "    x_1=x_0/2\n",
    "    while x_1>0:\n",
    "        x_0=x_1\n",
    "        x_1=x_0/2\n",
    "    print(x_0)\n",
    "    "
   ]
  },
  {
   "cell_type": "code",
   "execution_count": 4,
   "metadata": {},
   "outputs": [
    {
     "name": "stdout",
     "output_type": "stream",
     "text": [
      "5e-324\n"
     ]
    }
   ],
   "source": [
    "min_maquina()"
   ]
  },
  {
   "cell_type": "markdown",
   "metadata": {},
   "source": [
    "### 2. For"
   ]
  },
  {
   "cell_type": "markdown",
   "metadata": {},
   "source": [
    "### Suma de los n primeros naturales"
   ]
  },
  {
   "cell_type": "code",
   "execution_count": 5,
   "metadata": {},
   "outputs": [
    {
     "name": "stdout",
     "output_type": "stream",
     "text": [
      "1275\n"
     ]
    }
   ],
   "source": [
    "suma=0\n",
    "n=50\n",
    "for i in range(0,n+1):\n",
    "    suma+=i\n",
    "print(suma)"
   ]
  },
  {
   "cell_type": "code",
   "execution_count": 6,
   "metadata": {},
   "outputs": [],
   "source": [
    "def revision_suma(n):\n",
    "    return n*(n+1)/2"
   ]
  },
  {
   "cell_type": "code",
   "execution_count": 7,
   "metadata": {},
   "outputs": [
    {
     "data": {
      "text/plain": [
       "1275.0"
      ]
     },
     "execution_count": 7,
     "metadata": {},
     "output_type": "execute_result"
    }
   ],
   "source": [
    "revision_suma(50)"
   ]
  },
  {
   "cell_type": "markdown",
   "metadata": {},
   "source": [
    "### Raíz cuadrada de un número real positivo"
   ]
  },
  {
   "cell_type": "code",
   "execution_count": 8,
   "metadata": {},
   "outputs": [],
   "source": [
    "def valor_absoluto(n):\n",
    "    if n>0:\n",
    "        return n\n",
    "    else: return -n\n"
   ]
  },
  {
   "cell_type": "code",
   "execution_count": 9,
   "metadata": {},
   "outputs": [],
   "source": [
    "def raiz_cuadrada(a):\n",
    "    x_0=a\n",
    "    x_1=0.5*(x_0+a/x_0)\n",
    "    while valor_absoluto(x_1-x_0)>0.000001:\n",
    "        x_0=x_1\n",
    "        x_1=0.5*(x_0+a/x_0)\n",
    "    print(x_0) "
   ]
  },
  {
   "cell_type": "code",
   "execution_count": 10,
   "metadata": {},
   "outputs": [
    {
     "name": "stdout",
     "output_type": "stream",
     "text": [
      "1.4142135623746899\n"
     ]
    }
   ],
   "source": [
    "raiz_cuadrada(2)"
   ]
  },
  {
   "cell_type": "code",
   "execution_count": 11,
   "metadata": {},
   "outputs": [
    {
     "data": {
      "text/plain": [
       "1.4142135623730951"
      ]
     },
     "execution_count": 11,
     "metadata": {},
     "output_type": "execute_result"
    }
   ],
   "source": [
    "import math\n",
    "math.sqrt(2)"
   ]
  },
  {
   "cell_type": "code",
   "execution_count": 12,
   "metadata": {},
   "outputs": [
    {
     "data": {
      "text/plain": [
       "2.05"
      ]
     },
     "execution_count": 12,
     "metadata": {},
     "output_type": "execute_result"
    }
   ],
   "source": [
    "(2.5+(4/2.5))/2"
   ]
  },
  {
   "cell_type": "markdown",
   "metadata": {},
   "source": [
    "#### El factorial de un número con ciclos y con funciones recursivas"
   ]
  },
  {
   "cell_type": "code",
   "execution_count": 13,
   "metadata": {},
   "outputs": [],
   "source": [
    "def fact_recursivo(n):\n",
    "    if n==1:\n",
    "        return 1\n",
    "    else: return fact_recursivo(n-1)*n"
   ]
  },
  {
   "cell_type": "code",
   "execution_count": 14,
   "metadata": {},
   "outputs": [
    {
     "data": {
      "text/plain": [
       "24"
      ]
     },
     "execution_count": 14,
     "metadata": {},
     "output_type": "execute_result"
    }
   ],
   "source": [
    "fact_recursivo(4)"
   ]
  },
  {
   "cell_type": "code",
   "execution_count": 15,
   "metadata": {},
   "outputs": [],
   "source": [
    "def fact_loop(n):\n",
    "    i=1\n",
    "    factorial=1\n",
    "    while n>=i:\n",
    "        factorial*=i\n",
    "        i+=1\n",
    "    print(factorial)"
   ]
  },
  {
   "cell_type": "code",
   "execution_count": 16,
   "metadata": {},
   "outputs": [
    {
     "name": "stdout",
     "output_type": "stream",
     "text": [
      "24\n"
     ]
    }
   ],
   "source": [
    "fact_loop(4)"
   ]
  },
  {
   "cell_type": "markdown",
   "metadata": {},
   "source": [
    "Imprimir un listado con los números del 1 al 100 cada uno con su respectivo cuadrado."
   ]
  },
  {
   "cell_type": "code",
   "execution_count": 17,
   "metadata": {},
   "outputs": [
    {
     "name": "stdout",
     "output_type": "stream",
     "text": [
      "1 1\n",
      "2 4\n",
      "3 9\n",
      "4 16\n",
      "5 25\n",
      "6 36\n",
      "7 49\n",
      "8 64\n",
      "9 81\n",
      "10 100\n",
      "11 121\n",
      "12 144\n",
      "13 169\n",
      "14 196\n",
      "15 225\n",
      "16 256\n",
      "17 289\n",
      "18 324\n",
      "19 361\n",
      "20 400\n",
      "21 441\n",
      "22 484\n",
      "23 529\n",
      "24 576\n",
      "25 625\n",
      "26 676\n",
      "27 729\n",
      "28 784\n",
      "29 841\n",
      "30 900\n",
      "31 961\n",
      "32 1024\n",
      "33 1089\n",
      "34 1156\n",
      "35 1225\n",
      "36 1296\n",
      "37 1369\n",
      "38 1444\n",
      "39 1521\n",
      "40 1600\n",
      "41 1681\n",
      "42 1764\n",
      "43 1849\n",
      "44 1936\n",
      "45 2025\n",
      "46 2116\n",
      "47 2209\n",
      "48 2304\n",
      "49 2401\n",
      "50 2500\n",
      "51 2601\n",
      "52 2704\n",
      "53 2809\n",
      "54 2916\n",
      "55 3025\n",
      "56 3136\n",
      "57 3249\n",
      "58 3364\n",
      "59 3481\n",
      "60 3600\n",
      "61 3721\n",
      "62 3844\n",
      "63 3969\n",
      "64 4096\n",
      "65 4225\n",
      "66 4356\n",
      "67 4489\n",
      "68 4624\n",
      "69 4761\n",
      "70 4900\n",
      "71 5041\n",
      "72 5184\n",
      "73 5329\n",
      "74 5476\n",
      "75 5625\n",
      "76 5776\n",
      "77 5929\n",
      "78 6084\n",
      "79 6241\n",
      "80 6400\n",
      "81 6561\n",
      "82 6724\n",
      "83 6889\n",
      "84 7056\n",
      "85 7225\n",
      "86 7396\n",
      "87 7569\n",
      "88 7744\n",
      "89 7921\n",
      "90 8100\n",
      "91 8281\n",
      "92 8464\n",
      "93 8649\n",
      "94 8836\n",
      "95 9025\n",
      "96 9216\n",
      "97 9409\n",
      "98 9604\n",
      "99 9801\n",
      "100 10000\n"
     ]
    }
   ],
   "source": [
    "a=1\n",
    "b=100\n",
    "for i in range(a,b+1):\n",
    "    print(i, i**2)"
   ]
  },
  {
   "cell_type": "markdown",
   "metadata": {},
   "source": [
    "Imprimir un listado con los números impares desde 1 hasta 99 y seguidamente otro\n",
    "listado con los números pares desde 2 hasta 100."
   ]
  },
  {
   "cell_type": "code",
   "execution_count": 18,
   "metadata": {},
   "outputs": [
    {
     "name": "stdout",
     "output_type": "stream",
     "text": [
      "1 2\n",
      "3 4\n",
      "5 6\n",
      "7 8\n",
      "9 10\n",
      "11 12\n",
      "13 14\n",
      "15 16\n",
      "17 18\n",
      "19 20\n",
      "21 22\n",
      "23 24\n",
      "25 26\n",
      "27 28\n",
      "29 30\n",
      "31 32\n",
      "33 34\n",
      "35 36\n",
      "37 38\n",
      "39 40\n",
      "41 42\n",
      "43 44\n",
      "45 46\n",
      "47 48\n",
      "49 50\n",
      "51 52\n",
      "53 54\n",
      "55 56\n",
      "57 58\n",
      "59 60\n",
      "61 62\n",
      "63 64\n",
      "65 66\n",
      "67 68\n",
      "69 70\n",
      "71 72\n",
      "73 74\n",
      "75 76\n",
      "77 78\n",
      "79 80\n",
      "81 82\n",
      "83 84\n",
      "85 86\n",
      "87 88\n",
      "89 90\n",
      "91 92\n",
      "93 94\n",
      "95 96\n",
      "97 98\n",
      "99 100\n"
     ]
    }
   ],
   "source": [
    "n=1\n",
    "impar=2*n-1\n",
    "par=2*n\n",
    "while impar<=99:\n",
    "    print(impar, par)\n",
    "    n+=1\n",
    "    impar=2*n-1\n",
    "    par=2*n\n",
    "    "
   ]
  },
  {
   "cell_type": "markdown",
   "metadata": {},
   "source": [
    "Imprimir los números pares en forma descendente hasta 2 que son menores o iguales\n",
    "a un número natural n  dado."
   ]
  },
  {
   "cell_type": "code",
   "execution_count": 19,
   "metadata": {},
   "outputs": [
    {
     "name": "stdout",
     "output_type": "stream",
     "text": [
      "10\n",
      "8\n",
      "6\n",
      "4\n",
      "2\n"
     ]
    }
   ],
   "source": [
    "n=10\n",
    "while n>=2:\n",
    "    print(n)\n",
    "    n=n-2  "
   ]
  },
  {
   "cell_type": "markdown",
   "metadata": {},
   "source": [
    "Imprimir los 50 primeros números de Fibonacci. Recuerde que un número de Fibonacci\n",
    "se calcula como la suma de los dos anteriores : 0; 1; 1; 2; 3; 5; 8; 13."
   ]
  },
  {
   "cell_type": "code",
   "execution_count": null,
   "metadata": {},
   "outputs": [],
   "source": []
  }
 ],
 "metadata": {
  "kernelspec": {
   "display_name": "Python 3",
   "language": "python",
   "name": "python3"
  },
  "language_info": {
   "codemirror_mode": {
    "name": "ipython",
    "version": 3
   },
   "file_extension": ".py",
   "mimetype": "text/x-python",
   "name": "python",
   "nbconvert_exporter": "python",
   "pygments_lexer": "ipython3",
   "version": "3.7.6"
  }
 },
 "nbformat": 4,
 "nbformat_minor": 4
}
