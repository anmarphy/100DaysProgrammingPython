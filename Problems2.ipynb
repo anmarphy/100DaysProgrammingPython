{
 "cells": [
  {
   "cell_type": "code",
   "execution_count": 53,
   "metadata": {},
   "outputs": [],
   "source": [
    "import pandas as pd\n",
    "import numpy as np"
   ]
  },
  {
   "cell_type": "code",
   "execution_count": 49,
   "metadata": {},
   "outputs": [],
   "source": [
    "size = map(int, input().split())\n",
    "array= list(map(int, input().split()))\n",
    "A=list(map(int, input().split()))\n",
    "B=list(map(int, input().split()))\n",
    "\n",
    "happiness=0\n",
    "    \n",
    "for i in range(len(A)):\n",
    "    if A[i] in array:\n",
    "        happiness+=1\n",
    "\n",
    "for j in range(len(B)):\n",
    "    if B[j] in array:\n",
    "        happiness-=1\n",
    "print(happiness)"
   ]
  },
  {
   "cell_type": "code",
   "execution_count": 57,
   "metadata": {},
   "outputs": [
    {
     "name": "stdout",
     "output_type": "stream",
     "text": [
      "5 5 \n",
      "1 2 3 4 5\n",
      "1 3 5 7 9\n",
      "2 4 6 8 10\n"
     ]
    },
    {
     "data": {
      "text/plain": [
       "1"
      ]
     },
     "execution_count": 57,
     "metadata": {},
     "output_type": "execute_result"
    }
   ],
   "source": [
    "size = map(int, input().split())\n",
    "array= list(map(int, input().split()))\n",
    "A=list(map(int, input().split()))\n",
    "B=list(map(int, input().split()))\n",
    "\n",
    "suma=len([value for value in A if value in array])\n",
    "resta=len( [value for value in B if value in array])\n",
    "total=suma-resta\n",
    "total"
   ]
  },
  {
   "cell_type": "code",
   "execution_count": 61,
   "metadata": {},
   "outputs": [
    {
     "name": "stdout",
     "output_type": "stream",
     "text": [
      "5 5 \n",
      "1 2 3 4 5\n",
      "1 3 5 7 9\n",
      "2 4 6 8 10\n"
     ]
    },
    {
     "data": {
      "text/plain": [
       "1"
      ]
     },
     "execution_count": 61,
     "metadata": {},
     "output_type": "execute_result"
    }
   ],
   "source": [
    "size = map(int, input().split())\n",
    "array= list(map(int, input().split()))\n",
    "A=list(map(int, input().split()))\n",
    "B=list(map(int, input().split()))\n",
    "\n",
    "sum([(element in A)-(element in B) for element in array])"
   ]
  },
  {
   "cell_type": "code",
   "execution_count": 59,
   "metadata": {},
   "outputs": [
    {
     "data": {
      "text/plain": [
       "1"
      ]
     },
     "execution_count": 59,
     "metadata": {},
     "output_type": "execute_result"
    }
   ],
   "source": [
    "sum([1, -1, 1, -1, 1])"
   ]
  },
  {
   "cell_type": "code",
   "execution_count": 63,
   "metadata": {},
   "outputs": [
    {
     "name": "stdout",
     "output_type": "stream",
     "text": [
      "5 5 \n",
      "1 2 3 4 5\n",
      "1 3 5 7 9\n",
      "2 4 6 8 10\n",
      "1\n"
     ]
    }
   ],
   "source": [
    "n, m = input().split()\n",
    "array = input().split()\n",
    "A = input().split()\n",
    "B = input().split()\n",
    "\n",
    "print(sum([(element in A)-(element in B) for element in array])) ## Mas rapido"
   ]
  },
  {
   "cell_type": "code",
   "execution_count": null,
   "metadata": {},
   "outputs": [],
   "source": []
  }
 ],
 "metadata": {
  "kernelspec": {
   "display_name": "Python 3",
   "language": "python",
   "name": "python3"
  },
  "language_info": {
   "codemirror_mode": {
    "name": "ipython",
    "version": 3
   },
   "file_extension": ".py",
   "mimetype": "text/x-python",
   "name": "python",
   "nbconvert_exporter": "python",
   "pygments_lexer": "ipython3",
   "version": "3.8.5"
  }
 },
 "nbformat": 4,
 "nbformat_minor": 4
}
