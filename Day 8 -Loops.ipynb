{
 "cells": [
  {
   "cell_type": "markdown",
   "metadata": {},
   "source": [
    "# Day 8"
   ]
  },
  {
   "cell_type": "code",
   "execution_count": 6,
   "metadata": {},
   "outputs": [],
   "source": [
    "import pandas as pd\n",
    "import numpy as np\n",
    "import matplotlib.pyplot as plt"
   ]
  },
  {
   "cell_type": "markdown",
   "metadata": {},
   "source": [
    "Imprimir los 50 primeros números de Fibonacci. Recuerde que un número de Fibonacci\n",
    "se calcula como la suma de los dos anteriores así: 0; 1; 1; 2; 3; 5; 8; 13."
   ]
  },
  {
   "cell_type": "code",
   "execution_count": 1,
   "metadata": {},
   "outputs": [
    {
     "name": "stdout",
     "output_type": "stream",
     "text": [
      "0\n",
      "1\n",
      "1\n",
      "2\n",
      "3\n",
      "5\n",
      "8\n",
      "13\n",
      "21\n",
      "34\n"
     ]
    }
   ],
   "source": [
    "def fibonacci(n): #Recursive\n",
    "    if n==0:\n",
    "        return 0\n",
    "    elif n==1:\n",
    "        return 1\n",
    "    else: return fibonacci(n-1)+fibonacci(n-2)\n",
    "\n",
    "for i in range(0,10):\n",
    "    print(fibonacci(i)) \n"
   ]
  },
  {
   "cell_type": "code",
   "execution_count": 2,
   "metadata": {},
   "outputs": [
    {
     "data": {
      "text/plain": [
       "[0, 1, 1, 2, 3, 5, 8, 13, 21, 34]"
      ]
     },
     "execution_count": 2,
     "metadata": {},
     "output_type": "execute_result"
    }
   ],
   "source": [
    "l=[0,1]  #List\n",
    "while len(l)<10:\n",
    "    l.append(l[-1]+l[-2])\n",
    "l"
   ]
  },
  {
   "cell_type": "markdown",
   "metadata": {},
   "source": [
    "Imprimir los números de 1 hasta un número natural n dado, cada uno con su respectivo\n",
    "factorial."
   ]
  },
  {
   "cell_type": "code",
   "execution_count": 3,
   "metadata": {},
   "outputs": [
    {
     "name": "stdout",
     "output_type": "stream",
     "text": [
      "El factorial de  0 es 1\n",
      "El factorial de  1 es 1\n",
      "El factorial de  2 es 2\n",
      "El factorial de  3 es 6\n",
      "El factorial de  4 es 24\n",
      "El factorial de  5 es 120\n"
     ]
    }
   ],
   "source": [
    "def imprime_factoriales (n):\n",
    "    \n",
    "    def factorial(n):\n",
    "        if n==0:\n",
    "            return 1\n",
    "        else: return factorial(n-1)*n\n",
    "        \n",
    "    for i in range(0,n+1):\n",
    "           print ('El factorial de ', i, 'es', factorial(i))\n",
    "\n",
    "imprime_factoriales (5)"
   ]
  },
  {
   "cell_type": "markdown",
   "metadata": {},
   "source": [
    "Calcular el valor de 2 elevado a la potencia n."
   ]
  },
  {
   "cell_type": "code",
   "execution_count": 7,
   "metadata": {},
   "outputs": [
    {
     "data": {
      "image/png": "[encoded data removed]",
      "text/plain": [
       "<Figure size 432x288 with 1 Axes>"
      ]
     },
     "metadata": {
      "needs_background": "light"
     },
     "output_type": "display_data"
    }
   ],
   "source": [
    "def potencia_2(n):\n",
    "    if n==0:\n",
    "        return 1\n",
    "    else: return potencia_2(n-1)*2\n",
    "\n",
    "imagen=[]\n",
    "for i in range(0, 10):\n",
    "    imagen.append(potencia_2(i))\n",
    "    \n",
    "plt.plot(range(0,10), imagen)\n",
    "plt.show()"
   ]
  },
  {
   "cell_type": "markdown",
   "metadata": {},
   "source": [
    "Leer un número natural n, leer otro dato de tipo real x y calcular $x^{n}$."
   ]
  },
  {
   "cell_type": "code",
   "execution_count": 12,
   "metadata": {},
   "outputs": [
    {
     "data": {
      "image/png": "[encoded data removed]",
      "text/plain": [
       "<Figure size 432x288 with 1 Axes>"
      ]
     },
     "metadata": {
      "needs_background": "light"
     },
     "output_type": "display_data"
    }
   ],
   "source": [
    "def potencia(base, exponente):\n",
    "    if exponente==0:\n",
    "        return 1\n",
    "    else: return potencia(base, exponente-1)*base\n",
    "    \n",
    "b=5\n",
    "exponente_max=10\n",
    "imagen=[]\n",
    "for i in range(0,exponente_max):\n",
    "    imagen.append(potencia(b, i))\n",
    "\n",
    "plt.plot(range(0, exponente_max), imagen)\n",
    "plt.show()     "
   ]
  },
  {
   "cell_type": "markdown",
   "metadata": {},
   "source": [
    "En 2010 el país A tiene una población de 25 millones de habitantes y el país B\n",
    "de 19:9 millones. Las tasas de crecimiento anual de la población son de 2% y 3%\n",
    "respectivamente. Desarrollar un algoritmo para informar en que a~no la población del\n",
    "país B supera a la de A."
   ]
  },
  {
   "cell_type": "code",
   "execution_count": 16,
   "metadata": {},
   "outputs": [
    {
     "name": "stdout",
     "output_type": "stream",
     "text": [
      "24\n"
     ]
    }
   ],
   "source": [
    "vol_a=25\n",
    "vol_b=19.9\n",
    "r_a=0.02\n",
    "r_b=0.03\n",
    "n=1\n",
    "pob_a=vol_a*(1+r_a)**n\n",
    "\n",
    "def poblacion_a(n):\n",
    "    if n==1:\n",
    "        return vol_a*(1+r_a)\n",
    "    else: return poblacion_a(n-1)*(1+r_a)\n",
    "    \n",
    "def poblacion_b(n):\n",
    "    if n==1:\n",
    "        return vol_b*(1+r_b)\n",
    "    else: return poblacion_b(n-1)*(1+r_b)\n",
    "\n",
    "i=1\n",
    "while poblacion_a(i)> poblacion_b(i):\n",
    "    i+=1\n",
    "print(i)"
   ]
  },
  {
   "cell_type": "code",
   "execution_count": 19,
   "metadata": {},
   "outputs": [
    {
     "name": "stdout",
     "output_type": "stream",
     "text": [
      "20 37.14868489945888 35.94161356992135\n",
      "21 37.89165859744806 37.01986197701899\n",
      "22 38.64949176939702 38.13045783632956\n",
      "23 39.422481604784956 39.27437157141945\n",
      "24 40.210931236880654 40.452602718562034\n",
      "25 41.01514986161827 41.666180800118894\n",
      "26 41.83545285885064 42.91616622412246\n",
      "27 42.67216191602765 44.20365121084614\n",
      "28 43.5256051543482 45.52976074717152\n",
      "29 44.396117257435165 46.89565356958667\n"
     ]
    }
   ],
   "source": [
    "for i in range(20, 30):\n",
    "    print(i, poblacion_a(i), poblacion_b(i))"
   ]
  },
  {
   "cell_type": "markdown",
   "metadata": {},
   "source": []
  },
  {
   "cell_type": "code",
   "execution_count": null,
   "metadata": {},
   "outputs": [],
   "source": []
  },
  {
   "cell_type": "code",
   "execution_count": null,
   "metadata": {},
   "outputs": [],
   "source": []
  },
  {
   "cell_type": "code",
   "execution_count": null,
   "metadata": {},
   "outputs": [],
   "source": []
  }
 ],
 "metadata": {
  "kernelspec": {
   "display_name": "Python 3",
   "language": "python",
   "name": "python3"
  },
  "language_info": {
   "codemirror_mode": {
    "name": "ipython",
    "version": 3
   },
   "file_extension": ".py",
   "mimetype": "text/x-python",
   "name": "python",
   "nbconvert_exporter": "python",
   "pygments_lexer": "ipython3",
   "version": "3.7.6"
  }
 },
 "nbformat": 4,
 "nbformat_minor": 4
}
