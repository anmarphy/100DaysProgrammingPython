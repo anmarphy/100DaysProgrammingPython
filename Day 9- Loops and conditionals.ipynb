{
 "cells": [
  {
   "cell_type": "markdown",
   "metadata": {},
   "source": [
    "## Day 9 -Loops and conditional"
   ]
  },
  {
   "cell_type": "code",
   "execution_count": 2,
   "metadata": {},
   "outputs": [],
   "source": [
    "import pandas as pd\n",
    "import numpy as np"
   ]
  },
  {
   "cell_type": "markdown",
   "metadata": {},
   "source": [
    "Elaborar una función que reciba un número entero, que retorne $-1$ si el número es\n",
    "negativo, si el número es positivo debe devolver una clave calculada de la siguiente\n",
    "manera: se suma cada dígito que compone el número y a esa suma se le calcula el\n",
    "módulo 7. Por ejemplo: para la cifra 513, la clave será 5 + 1 + 3 = 9; 9 mód 7 = 2."
   ]
  },
  {
   "cell_type": "code",
   "execution_count": 4,
   "metadata": {},
   "outputs": [
    {
     "data": {
      "text/plain": [
       "2.0"
      ]
     },
     "execution_count": 4,
     "metadata": {},
     "output_type": "execute_result"
    }
   ],
   "source": [
    "numero=-1\n",
    "def clave(numero):\n",
    "    if numero <0:\n",
    "        return -1\n",
    "    else: \n",
    "        str_numero=str(numero)\n",
    "        intermedio= float(str_numero[0])+float(str_numero[1])+float(str_numero[2])\n",
    "        return intermedio% 7\n",
    "clave(513)"
   ]
  },
  {
   "cell_type": "markdown",
   "metadata": {},
   "source": [
    "Calcule un programa que muestre las tablas de multiplicar del 1 al 9."
   ]
  },
  {
   "cell_type": "code",
   "execution_count": 5,
   "metadata": {},
   "outputs": [
    {
     "name": "stdout",
     "output_type": "stream",
     "text": [
      "1 x 1 = 1\n",
      "1 x 2 = 2\n",
      "1 x 3 = 3\n",
      "1 x 4 = 4\n",
      "1 x 5 = 5\n",
      "1 x 6 = 6\n",
      "1 x 7 = 7\n",
      "1 x 8 = 8\n",
      "1 x 9 = 9\n",
      "1 x 10 = 10\n",
      "2 x 1 = 2\n",
      "2 x 2 = 4\n",
      "2 x 3 = 6\n",
      "2 x 4 = 8\n",
      "2 x 5 = 10\n",
      "2 x 6 = 12\n",
      "2 x 7 = 14\n",
      "2 x 8 = 16\n",
      "2 x 9 = 18\n",
      "2 x 10 = 20\n",
      "3 x 1 = 3\n",
      "3 x 2 = 6\n",
      "3 x 3 = 9\n",
      "3 x 4 = 12\n",
      "3 x 5 = 15\n",
      "3 x 6 = 18\n",
      "3 x 7 = 21\n",
      "3 x 8 = 24\n",
      "3 x 9 = 27\n",
      "3 x 10 = 30\n",
      "4 x 1 = 4\n",
      "4 x 2 = 8\n",
      "4 x 3 = 12\n",
      "4 x 4 = 16\n",
      "4 x 5 = 20\n",
      "4 x 6 = 24\n",
      "4 x 7 = 28\n",
      "4 x 8 = 32\n",
      "4 x 9 = 36\n",
      "4 x 10 = 40\n",
      "5 x 1 = 5\n",
      "5 x 2 = 10\n",
      "5 x 3 = 15\n",
      "5 x 4 = 20\n",
      "5 x 5 = 25\n",
      "5 x 6 = 30\n",
      "5 x 7 = 35\n",
      "5 x 8 = 40\n",
      "5 x 9 = 45\n",
      "5 x 10 = 50\n",
      "6 x 1 = 6\n",
      "6 x 2 = 12\n",
      "6 x 3 = 18\n",
      "6 x 4 = 24\n",
      "6 x 5 = 30\n",
      "6 x 6 = 36\n",
      "6 x 7 = 42\n",
      "6 x 8 = 48\n",
      "6 x 9 = 54\n",
      "6 x 10 = 60\n",
      "7 x 1 = 7\n",
      "7 x 2 = 14\n",
      "7 x 3 = 21\n",
      "7 x 4 = 28\n",
      "7 x 5 = 35\n",
      "7 x 6 = 42\n",
      "7 x 7 = 49\n",
      "7 x 8 = 56\n",
      "7 x 9 = 63\n",
      "7 x 10 = 70\n",
      "8 x 1 = 8\n",
      "8 x 2 = 16\n",
      "8 x 3 = 24\n",
      "8 x 4 = 32\n",
      "8 x 5 = 40\n",
      "8 x 6 = 48\n",
      "8 x 7 = 56\n",
      "8 x 8 = 64\n",
      "8 x 9 = 72\n",
      "8 x 10 = 80\n",
      "9 x 1 = 9\n",
      "9 x 2 = 18\n",
      "9 x 3 = 27\n",
      "9 x 4 = 36\n",
      "9 x 5 = 45\n",
      "9 x 6 = 54\n",
      "9 x 7 = 63\n",
      "9 x 8 = 72\n",
      "9 x 9 = 81\n",
      "9 x 10 = 90\n"
     ]
    }
   ],
   "source": [
    "def  tablas():\n",
    "    for j in range(1,10):\n",
    "        for i in range(1, 11):\n",
    "            print( j, 'x', i,'=', j*i)\n",
    "            i+=i\n",
    "        j+=1\n",
    "tablas()\n"
   ]
  },
  {
   "cell_type": "markdown",
   "metadata": {},
   "source": [
    "Introducir un rango específicado por 2 números enteros, tal que el primero sea menor al segundo y contar el número de múltiplos de un numero entero leído que existe en el rango. Por ejemplo, si se introduce 2 y 21, el número de múltiplos de 3 es 7, dado que 3; 6; 9; 12; 15; 18 y 21 son múltiplos de 3 en el rango [2; 21]."
   ]
  },
  {
   "cell_type": "code",
   "execution_count": 6,
   "metadata": {},
   "outputs": [
    {
     "name": "stdout",
     "output_type": "stream",
     "text": [
      "3\n",
      "6\n",
      "9\n",
      "12\n",
      "15\n",
      "18\n",
      "21\n"
     ]
    }
   ],
   "source": [
    "def mult_rango(a,b,entero):\n",
    "\n",
    "    def validacion(a,b):\n",
    "        if a>b:\n",
    "            return 'el primer número debe ser menor que el segundo'\n",
    "        else: return range(a,b+1)\n",
    "\n",
    "    rango=validacion(a,b)\n",
    "    entero=3\n",
    "    i=1\n",
    "    multiplo=entero\n",
    "    while multiplo < rango[-1]:\n",
    "        multiplo=entero*i\n",
    "        print(multiplo)\n",
    "        i+=1\n",
    "mult_rango(2,21,3)"
   ]
  },
  {
   "cell_type": "markdown",
   "metadata": {},
   "source": [
    "Diseñar una función que permita calcular una aproximación de la función exponencial alrededor de 0 para cualquier valor x 2 R, utilizando los primeros n términos de la serie de Maclaurin  $$e^{x} \\approx \\sum_{i=0}^{n} \\frac{x^{i}}{i!} $$"
   ]
  },
  {
   "cell_type": "code",
   "execution_count": 8,
   "metadata": {},
   "outputs": [
    {
     "name": "stdout",
     "output_type": "stream",
     "text": [
      "La aproximacion de  2 terminos es  13.0\n",
      "La aproximacion de  3 terminos es  23.666666666666664\n",
      "La aproximacion de  4 terminos es  34.33333333333333\n",
      "La aproximacion de  5 terminos es  42.86666666666666\n",
      "La aproximacion de  6 terminos es  48.55555555555555\n",
      "La aproximacion de  7 terminos es  51.8063492063492\n",
      "La aproximacion de  8 terminos es  53.43174603174603\n",
      "La aproximacion de  9 terminos es  54.15414462081129\n",
      "La aproximacion de  10 terminos es  54.44310405643739\n",
      "La aproximacion de  11 terminos es  54.54818021484688\n",
      "La aproximacion de  12 terminos es  54.583205600983376\n",
      "La aproximacion de  13 terminos es  54.59398264287153\n",
      "La aproximacion de  14 terminos es  54.59706179769672\n",
      "La aproximacion de  15 terminos es  54.5978829056501\n",
      "La aproximacion de  16 terminos es  54.59808818263845\n",
      "La aproximacion de  17 terminos es  54.598136483106295\n",
      "La aproximacion de  18 terminos es  54.598147216543595\n",
      "La aproximacion de  19 terminos es  54.59814947621461\n",
      "La aproximacion de  20 terminos es  54.598149928148814\n",
      "La aproximacion de  21 terminos es  54.59815001423152\n",
      "La aproximacion de  22 terminos es  54.59815002988292\n",
      "La aproximacion de  23 terminos es  54.598150032604906\n",
      "La aproximacion de  24 terminos es  54.59815003305857\n"
     ]
    }
   ],
   "source": [
    "def exponencial(n,x):\n",
    "    l=[]\n",
    "    def factorial (m):\n",
    "        if m==0:\n",
    "            return 1\n",
    "        else: return factorial(m-1)*m\n",
    "    \n",
    "    for i in range(0, n+1):\n",
    "        l.append(x**i /factorial(i))\n",
    "        i+=1\n",
    "\n",
    "    return sum(l)\n",
    "\n",
    "for i in range(2,25):\n",
    "    print('La aproximacion de ', i, 'terminos es ', exponencial(i,4))"
   ]
  },
  {
   "cell_type": "markdown",
   "metadata": {},
   "source": [
    "Diseñar una función que permita calcular una aproximación de la función coseno alrededor de 0 para cualquier valor x 2 R (x dado en radianes), utilizando los primeros n términos de la serie de Maclaurin $$cos(x) \\approx \\sum_{i=0}^{n}\\frac{(-1)^{i}*x^{2i}}{(2i)!}$$"
   ]
  },
  {
   "cell_type": "code",
   "execution_count": 10,
   "metadata": {},
   "outputs": [
    {
     "data": {
      "text/plain": [
       "[<matplotlib.lines.Line2D at 0x260be60f888>]"
      ]
     },
     "execution_count": 10,
     "metadata": {},
     "output_type": "execute_result"
    },
    {
     "data": {
      "image/png": "[encoded data removed]",
      "text/plain": [
       "<Figure size 432x288 with 1 Axes>"
      ]
     },
     "metadata": {
      "needs_background": "light"
     },
     "output_type": "display_data"
    }
   ],
   "source": [
    "\n",
    "def maclaurin(x, n):\n",
    "    l=[]\n",
    "    #x=float(x)\n",
    "    def factorial(m):\n",
    "        if m==0:\n",
    "            return 1\n",
    "        else: return factorial(m-1)*m\n",
    "\n",
    "    for i in range(0,n+1 ):\n",
    "        l.append(((-1)**i)*(x**(2*i)) / factorial(2*i))\n",
    "        i+=1\n",
    "    return sum(l)\n",
    "    \n",
    "    \n",
    "    \n",
    "import matplotlib.pyplot as plt\n",
    "l=[]\n",
    "for i in range(0,20):\n",
    "    l.append(maclaurin(i, 100))\n",
    "\n",
    "plt.plot(range(0,20), l)"
   ]
  },
  {
   "cell_type": "code",
   "execution_count": null,
   "metadata": {},
   "outputs": [],
   "source": []
  },
  {
   "cell_type": "code",
   "execution_count": null,
   "metadata": {},
   "outputs": [],
   "source": []
  }
 ],
 "metadata": {
  "kernelspec": {
   "display_name": "Python 3",
   "language": "python",
   "name": "python3"
  },
  "language_info": {
   "codemirror_mode": {
    "name": "ipython",
    "version": 3
   },
   "file_extension": ".py",
   "mimetype": "text/x-python",
   "name": "python",
   "nbconvert_exporter": "python",
   "pygments_lexer": "ipython3",
   "version": "3.7.6"
  }
 },
 "nbformat": 4,
 "nbformat_minor": 4
}
